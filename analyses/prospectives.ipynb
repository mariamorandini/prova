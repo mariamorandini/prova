{
 "cells": [
  {
   "cell_type": "code",
   "execution_count": 13,
   "metadata": {},
   "outputs": [],
   "source": [
    "import pandas as pd\n",
    "import geopandas as gpd\n",
    "import matplotlib.pyplot as plt\n",
    "import geopandas as gpd\n",
    "import matplotlib.pyplot as plt\n",
    "import plotly.express as px\n",
    "import pandas as pd\n",
    "from plotly.subplots import make_subplots\n",
    "import plotly.graph_objects as go\n",
    "\n",
    "import plotly.graph_objects as go\n",
    "import plotly.subplots as sp\n",
    "import plotly.express as px\n",
    "import pandas as pd\n",
    "import seaborn as sns"
   ]
  },
  {
   "cell_type": "code",
   "execution_count": 14,
   "metadata": {},
   "outputs": [],
   "source": [
    "df = pd.read_csv('./data/World Energy Consumption.csv')"
   ]
  },
  {
   "cell_type": "code",
   "execution_count": 23,
   "metadata": {},
   "outputs": [],
   "source": [
    "from src.preprocessing.renaming_countries import *\n",
    "from src.preprocessing.insert_iso_codes import get_iso_code\n",
    "from src.preprocessing.consumptions_dataset import retain_consumptions\n",
    "rename_countries(df)\n",
    "df = drop_countries(df)\n",
    "get_iso_code(df)\n",
    "df  = retain_consumptions(df)"
   ]
  },
  {
   "cell_type": "code",
   "execution_count": 24,
   "metadata": {},
   "outputs": [],
   "source": [
    "filtered_list = [s for s in list(df.columns) if 'elec_per_capita' in s.lower()]\n",
    "strings_to_remove = [ 'other_renewables_elec_per_capita_exc_biofuel']\n",
    "filtered_list = list(filter(lambda item: item not in strings_to_remove,filtered_list))\n",
    "formatted_sources = [' '.join(word.capitalize() for word in item.split('_')) for item in filtered_list]"
   ]
  },
  {
   "cell_type": "code",
   "execution_count": 33,
   "metadata": {},
   "outputs": [],
   "source": [
    "# Identify the latest year in the dataset\n",
    "latest_year = df['year'].max()\n",
    "\n",
    "# Filter the dataset for the latest year and create an explicit copy\n",
    "latest_data = df[df['year'] == latest_year].copy()\n",
    "\n",
    "# Define the classification of energy types\n",
    "metric_groups = {\n",
    "    'biofuel_consumption': 'renewables',\n",
    "    'solar_consumption': 'renewables',\n",
    "    'wind_consumption': 'renewables',\n",
    "    'other_renewable_consumption': 'renewables',\n",
    "    'renewables_consumption': 'renewables',\n",
    "    'hydro_consumption': 'renewables',\n",
    "    'coal_consumption': 'not_renewables',\n",
    "    'fossil_fuel_consumption': 'not_renewables',\n",
    "    'gas_consumption': 'not_renewables',\n",
    "    'oil_consumption': 'not_renewables',\n",
    "    'low_carbon_consumption': 'not_renewables',\n",
    "    'nuclear_consumption': 'nuclear'\n",
    "}\n",
    "\n",
    "# Calculate sums for renewable and non-renewable energy consumption\n",
    "latest_data['renewable_energy'] = latest_data[[col for col in metric_groups if metric_groups[col] == 'renewables']].sum(axis=1)\n",
    "latest_data['non_renewable_energy'] = latest_data[[col for col in metric_groups if metric_groups[col] == 'not_renewables']].sum(axis=1)\n",
    "\n",
    "# Continue with finding the top and bottom countries and plotting\n",
    "\n",
    "# Sum up renewable and non-renewable consumptions\n",
    "latest_data['renewable_energy'] = latest_data[[col for col in metric_groups if metric_groups[col] == 'renewables']].sum(axis=1)\n",
    "latest_data['non_renewable_energy'] = latest_data[[col for col in metric_groups if metric_groups[col] == 'not_renewables']].sum(axis=1)\n",
    "\n",
    "# Find the top 5 and bottom 5 countries\n",
    "top_5_renewables = latest_data.nlargest(5, 'renewable_energy')\n",
    "bottom_5_non_renewables = latest_data.nlargest(5, 'non_renewable_energy')\n"
   ]
  },
  {
   "cell_type": "code",
   "execution_count": 43,
   "metadata": {},
   "outputs": [
    {
     "name": "stdout",
     "output_type": "stream",
     "text": [
      "Plot saved as an interactive HTML file at 'energy_consumption_comparison.html'.\n"
     ]
    }
   ],
   "source": [
    "import plotly.graph_objects as go\n",
    "import pandas as pd\n",
    "\n",
    "\n",
    "# Initialize the figure\n",
    "fig = go.Figure()\n",
    "\n",
    "# Add traces for Renewable and Non-Renewable Energy\n",
    "for df, label, color in zip([top_5_renewables, bottom_5_non_renewables], \n",
    "                            ['Renewable Energy', 'Non Renewable Energy'], \n",
    "                            ['green', 'red']):\n",
    "    fig.add_trace(go.Scatter(\n",
    "        x=df['country'],  # Ensure this is directly using the 'country' column\n",
    "        y=df[label.lower().replace(\" \", \"_\")],  # Accessing columns dynamically\n",
    "        mode='markers',\n",
    "        marker=dict(\n",
    "            size=df[label.lower().replace(\" \", \"_\")] / df[label.lower().replace(\" \", \"_\")].max() * 100,  # Size normalization\n",
    "            color=color\n",
    "        ),\n",
    "        name=label\n",
    "    ))\n",
    "\n",
    "fig.update_layout(\n",
    "    title='Prospectives on Energy Consumption - Top 5 consumer of Renewables and Not-Renewables | 2022',\n",
    "    xaxis=dict(\n",
    "        title='Country',\n",
    "        type='category'  # Ensuring the x-axis is treated as categorical data\n",
    "    ),\n",
    "    yaxis=dict(\n",
    "        title='Cumulative Energy Consumption -Kw per Capita  '\n",
    "    ),\n",
    "    legend_title=\"Energy Type\",\n",
    ")\n",
    "\n",
    "# Save the figure to an HTML file\n",
    "fig.write_html('./outputs/prospectives.html')\n",
    "print(\"Plot saved as an interactive HTML file at 'energy_consumption_comparison.html'.\")\n"
   ]
  }
 ],
 "metadata": {
  "kernelspec": {
   "display_name": "Python 3",
   "language": "python",
   "name": "python3"
  },
  "language_info": {
   "codemirror_mode": {
    "name": "ipython",
    "version": 3
   },
   "file_extension": ".py",
   "mimetype": "text/x-python",
   "name": "python",
   "nbconvert_exporter": "python",
   "pygments_lexer": "ipython3",
   "version": "3.10.4"
  }
 },
 "nbformat": 4,
 "nbformat_minor": 2
}
