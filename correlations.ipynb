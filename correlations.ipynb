{
 "cells": [
  {
   "cell_type": "code",
   "execution_count": 1,
   "metadata": {},
   "outputs": [],
   "source": [
    "import pandas as pd\n",
    "import geopandas as gpd\n",
    "import matplotlib.pyplot as plt\n",
    "import geopandas as gpd\n",
    "import matplotlib.pyplot as plt"
   ]
  },
  {
   "cell_type": "code",
   "execution_count": 7,
   "metadata": {},
   "outputs": [],
   "source": [
    "df = pd.read_csv('./data/World Energy Consumption.csv')"
   ]
  },
  {
   "cell_type": "code",
   "execution_count": 8,
   "metadata": {},
   "outputs": [],
   "source": [
    "from src.preprocessing.create_world_df import create_world_df\n",
    "create_world_df(df)"
   ]
  },
  {
   "cell_type": "code",
   "execution_count": 9,
   "metadata": {},
   "outputs": [],
   "source": [
    "df_world = pd.read_csv('world_df.csv')"
   ]
  },
  {
   "cell_type": "code",
   "execution_count": 16,
   "metadata": {},
   "outputs": [],
   "source": [
    "from src.preprocessing.consumptions_per_capita import retain_consumptions_per_capita\n",
    "\n",
    "df = retain_consumptions_per_capita(df_world, indexing=False)"
   ]
  },
  {
   "cell_type": "code",
   "execution_count": 18,
   "metadata": {},
   "outputs": [],
   "source": [
    "import pandas as pd\n",
    "import plotly.graph_objects as go\n",
    "\n",
    "\n",
    "# Calculate the correlation matrix\n",
    "corr_matrix = df.iloc[:, 1:].corr()\n",
    "\n",
    "# Format column names by replacing underscores, removing \"Elec\", and capitalizing each word\n",
    "formatted_columns = [' '.join(col.replace('elec_', '').split('_')).title() for col in corr_matrix.columns]\n",
    "\n",
    "# Create a heatmap from the correlation matrix\n",
    "fig = go.Figure(data=go.Heatmap(\n",
    "    z=corr_matrix.values,\n",
    "    x=formatted_columns,\n",
    "    y=formatted_columns,\n",
    "    hoverinfo='z+x+y',\n",
    "    colorscale='Greens',  # Green color scale for visual appeal\n",
    "    zmin=-1,  # Minimum value of correlation scale\n",
    "    zmax=1   # Maximum value of correlation scale\n",
    "))\n",
    "\n",
    "# Add annotations for each cell with the correlation value\n",
    "for i, row in enumerate(corr_matrix.values):\n",
    "    for j, value in enumerate(row):\n",
    "        fig.add_annotation(\n",
    "            x=formatted_columns[j],\n",
    "            y=formatted_columns[i],\n",
    "            text=\"{:.2f}\".format(value),\n",
    "            showarrow=False,\n",
    "            font=dict(color=\"black\" if abs(value) > 0.5 else \"black\")\n",
    "        )\n",
    "\n",
    "# Update layout of the figure to make it more readable and professional\n",
    "fig.update_layout(\n",
    "    title='<b>World Correlation Matrix of Energy</b><br><sub>Measured in kilowatt-hours or Electricity generated per person</sub>',\n",
    "    xaxis_title='Energy Source',\n",
    "    yaxis_title='Energy Source',\n",
    "    xaxis=dict(side='bottom'),\n",
    "    yaxis=dict(autorange='reversed'),\n",
    "    template='plotly_white',  # White background for a cleaner appearance\n",
    "    margin=dict(l=100, r=100, t=100, b=100)\n",
    ")\n",
    "\n",
    "# Save the figure as an HTML file\n",
    "fig.write_html(\"./outputs/correlation_matrix.html\", auto_open=False)\n"
   ]
  }
 ],
 "metadata": {
  "kernelspec": {
   "display_name": "Python 3",
   "language": "python",
   "name": "python3"
  },
  "language_info": {
   "codemirror_mode": {
    "name": "ipython",
    "version": 3
   },
   "file_extension": ".py",
   "mimetype": "text/x-python",
   "name": "python",
   "nbconvert_exporter": "python",
   "pygments_lexer": "ipython3",
   "version": "3.10.4"
  }
 },
 "nbformat": 4,
 "nbformat_minor": 2
}
